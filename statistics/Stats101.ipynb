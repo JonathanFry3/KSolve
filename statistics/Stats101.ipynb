{
 "cells": [
  {
   "cell_type": "code",
   "execution_count": 3,
   "metadata": {},
   "outputs": [],
   "source": [
    "import pandas as pd\n",
    "import os\n",
    "from scipy.stats import norm\n",
    "from numpy import sqrt\n",
    "import binomial\n",
    "Bin = binomial.Binomial\n"
   ]
  },
  {
   "cell_type": "code",
   "execution_count": 4,
   "metadata": {},
   "outputs": [
    {
     "name": "stdout",
     "output_type": "stream",
     "text": [
      "0.9183% of draw 1 games are winnable (1799 out of 1959).\n",
      "95% C.I: 0.9183 +- 0.000388\n"
     ]
    }
   ],
   "source": [
    "base = pd.read_csv(\"../tests/base2000-110M-moves.txt\", sep=\"\\t\")\n",
    "n_winnable = sum(base[\"outcome\"].isin([0,1]))\n",
    "n_imposs = sum(base[\"outcome\"].isin([2]))\n",
    "dist = Bin(n_winnable, n_imposs)\n",
    "print(f\"{dist.p_hat:{1}.{4}}% of draw 1 games are winnable ({n_winnable} out of {dist.tot}).\")\n",
    "ci = dist.wilson_ci(.95)\n",
    "print(f\"95% C.I: {ci['mid']:.{4}} +- {ci['width']/2:.{4}}\")"
   ]
  },
  {
   "cell_type": "code",
   "execution_count": 5,
   "metadata": {},
   "outputs": [
    {
     "name": "stdout",
     "output_type": "stream",
     "text": [
      "0.8161% of draw 3 games are winnable (1624 out of 1990).\n",
      "95% C.I: 0.8161 +- 0.0005446\n"
     ]
    }
   ],
   "source": [
    "base = pd.read_csv(\"../tests/base3-2000-110M-moves.txt\", sep=\"\\t\")\n",
    "n_winnable = sum(base[\"outcome\"].isin([0,1]))\n",
    "n_imposs = sum(base[\"outcome\"].isin([2]))\n",
    "dist = Bin(n_winnable, n_imposs)\n",
    "print(f\"{dist.p_hat:{1}.{4}}% of draw 3 games are winnable ({n_winnable} out of {dist.tot}).\")\n",
    "ci = dist.wilson_ci(.95)\n",
    "print(f\"95% C.I: {ci['mid']:.{4}} +- {ci['width']/2:.{4}}\")"
   ]
  }
 ],
 "metadata": {
  "kernelspec": {
   "display_name": "Python 3",
   "language": "python",
   "name": "python3"
  },
  "language_info": {
   "codemirror_mode": {
    "name": "ipython",
    "version": 3
   },
   "file_extension": ".py",
   "mimetype": "text/x-python",
   "name": "python",
   "nbconvert_exporter": "python",
   "pygments_lexer": "ipython3",
   "version": "3.10.6"
  },
  "orig_nbformat": 4
 },
 "nbformat": 4,
 "nbformat_minor": 2
}
