{
 "cells": [
  {
   "cell_type": "code",
   "execution_count": 1,
   "metadata": {},
   "outputs": [],
   "source": [
    "import pandas as pd\n",
    "import os\n",
    "from scipy.stats import norm\n",
    "from numpy import sqrt\n",
    "import binomial\n",
    "Bin = binomial.Binomial\n"
   ]
  },
  {
   "cell_type": "code",
   "execution_count": 3,
   "metadata": {},
   "outputs": [
    {
     "name": "stdout",
     "output_type": "stream",
     "text": [
      "0.9143% of games are winnable (1793 out of 1961).\n",
      "95% C.I: 0.9143 +- 0.0003963\n"
     ]
    }
   ],
   "source": [
    "base = pd.read_csv(\"../tests/base2000-110M-moves.txt\", sep=\"\\t\")\n",
    "n_winnable = sum(base[\"outcome\"].isin([0,1]))\n",
    "n_imposs = sum(base[\"outcome\"].isin([2]))\n",
    "dist = Bin(n_winnable, n_imposs)\n",
    "print(f\"{dist.p_hat:{1}.{4}}% of games are winnable ({n_winnable} out of {dist.tot}).\")\n",
    "ci = dist.wilson_ci(.95)\n",
    "print(f\"95% C.I: {ci['mid']:.{4}} +- {ci['width']/2:.{4}}\")"
   ]
  }
 ],
 "metadata": {
  "kernelspec": {
   "display_name": "Python 3",
   "language": "python",
   "name": "python3"
  },
  "language_info": {
   "codemirror_mode": {
    "name": "ipython",
    "version": 3
   },
   "file_extension": ".py",
   "mimetype": "text/x-python",
   "name": "python",
   "nbconvert_exporter": "python",
   "pygments_lexer": "ipython3",
   "version": "3.11.3"
  },
  "orig_nbformat": 4
 },
 "nbformat": 4,
 "nbformat_minor": 2
}
